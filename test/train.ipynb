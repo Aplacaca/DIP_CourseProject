{
 "cells": [
  {
   "cell_type": "code",
   "execution_count": 3,
   "metadata": {},
   "outputs": [],
   "source": [
    "import jittor as jt\n",
    "from jittor import nn\n",
    "import matplotlib.pyplot as plt\n",
    "import jittor.transform as trans\n",
    "import numpy as np"
   ]
  },
  {
   "cell_type": "code",
   "execution_count": 4,
   "metadata": {},
   "outputs": [],
   "source": [
    "from jittor.dataset.cifar import CIFAR10\n",
    "# train_loader = CIFAR10(train=True).set_attrs(batch_size=16, shuffle=True)\n",
    "# val_loader = CIFAR10(train=False) .set_attrs(batch_size=1, shuffle=False)\n"
   ]
  },
  {
   "cell_type": "code",
   "execution_count": 10,
   "metadata": {},
   "outputs": [],
   "source": [
    "def train(model, train_loader, optimizer, epoch):\n",
    "    model.train()\n",
    "    for batch_idx, (inputs, targets) in enumerate(train_loader):\n",
    "        outputs = model(inputs)\n",
    "        loss = nn.cross_entropy_loss(outputs, targets)\n",
    "        optimizer.step (loss)\n",
    "        if batch_idx % 10 == 0:\n",
    "            print('Train Epoch: {} [{}/{} ({:.0f}%)]\\tLoss: {:.6f}'.format(\n",
    "                    epoch, batch_idx, len(train_loader),\n",
    "                    100. * batch_idx / len(train_loader), loss.data[0]))\n",
    "\n",
    "\n",
    "def test(model, val_loader, epoch):\n",
    "    model.eval()\n",
    "\n",
    "    test_loss = 0\n",
    "    correct = 0\n",
    "    total_acc = 0\n",
    "    total_num = 0\n",
    "    for batch_idx, (inputs, targets) in enumerate(val_loader):\n",
    "        batch_size = inputs.shape[0]\n",
    "        outputs = model(inputs)\n",
    "        pred = np.argmax(outputs.data, axis=1)\n",
    "        acc = np.sum(targets.data==pred)\n",
    "        total_acc += acc\n",
    "        total_num += batch_size\n",
    "        acc = acc / batch_size\n",
    "        print('Test Epoch: {} [{}/{} ({:.0f}%)]\\tAcc: {:.6f}'.format(epoch, \\\n",
    "                    batch_idx, len(val_loader),100. * float(batch_idx) / len(val_loader), acc))\n",
    "    print ('Total test acc =', total_acc / total_num)\n",
    "\n"
   ]
  },
  {
   "cell_type": "code",
   "execution_count": 6,
   "metadata": {},
   "outputs": [],
   "source": [
    "from jittor.models.resnet import Resnet50\n"
   ]
  },
  {
   "cell_type": "code",
   "execution_count": 17,
   "metadata": {},
   "outputs": [],
   "source": [
    "def main ():\n",
    "    batch_size = 64\n",
    "    learning_rate = 0.1\n",
    "    momentum = 0.9\n",
    "    weight_decay = 1e-4\n",
    "    epochs = 100\n",
    "    \n",
    "    my_transform = trans.Compose([\n",
    "        # trans.Resize(224),\n",
    "        trans.ToTensor()\n",
    "        ])\n",
    "    \n",
    "    train_loader = CIFAR10(train=True, transform=my_transform).set_attrs(batch_size=batch_size, shuffle=True)\n",
    "\n",
    "    val_loader = CIFAR10(train=False, transform=my_transform) .set_attrs(batch_size=1, shuffle=False)\n",
    "\n",
    "    model = Resnet50()\n",
    "    optimizer = nn.SGD(model.parameters(), learning_rate, momentum, weight_decay)\n",
    "    for epoch in range(epochs):\n",
    "        train(model, train_loader, optimizer, epoch)\n",
    "        test(model, val_loader, epoch)\n"
   ]
  },
  {
   "cell_type": "code",
   "execution_count": 14,
   "metadata": {},
   "outputs": [
    {
     "name": "stdout",
     "output_type": "stream",
     "text": [
      "Files already downloaded and verified\n",
      "Files already downloaded and verified\n"
     ]
    },
    {
     "ename": "AssertionError",
     "evalue": "",
     "output_type": "error",
     "traceback": [
      "\u001b[0;31m---------------------------------------------------------------------------\u001b[0m",
      "\u001b[0;31mAssertionError\u001b[0m                            Traceback (most recent call last)",
      "\u001b[1;32m/home/dhy/dip/test/train.ipynb Cell 6'\u001b[0m in \u001b[0;36m<cell line: 1>\u001b[0;34m()\u001b[0m\n\u001b[0;32m----> <a href='vscode-notebook-cell://ssh-remote%2B7b22686f73744e616d65223a2252656d6f74652d34352d6f76706e227d/home/dhy/dip/test/train.ipynb#ch0000003vscode-remote?line=0'>1</a>\u001b[0m main()\n",
      "\u001b[1;32m/home/dhy/dip/test/train.ipynb Cell 5'\u001b[0m in \u001b[0;36mmain\u001b[0;34m()\u001b[0m\n\u001b[1;32m     <a href='vscode-notebook-cell://ssh-remote%2B7b22686f73744e616d65223a2252656d6f74652d34352d6f76706e227d/home/dhy/dip/test/train.ipynb#ch0000005vscode-remote?line=11'>12</a>\u001b[0m optimizer \u001b[39m=\u001b[39m nn\u001b[39m.\u001b[39mSGD(model\u001b[39m.\u001b[39mparameters(), learning_rate, momentum, weight_decay)\n\u001b[1;32m     <a href='vscode-notebook-cell://ssh-remote%2B7b22686f73744e616d65223a2252656d6f74652d34352d6f76706e227d/home/dhy/dip/test/train.ipynb#ch0000005vscode-remote?line=12'>13</a>\u001b[0m \u001b[39mfor\u001b[39;00m epoch \u001b[39min\u001b[39;00m \u001b[39mrange\u001b[39m(epochs):\n\u001b[0;32m---> <a href='vscode-notebook-cell://ssh-remote%2B7b22686f73744e616d65223a2252656d6f74652d34352d6f76706e227d/home/dhy/dip/test/train.ipynb#ch0000005vscode-remote?line=13'>14</a>\u001b[0m     train(model, train_loader, optimizer, epoch)\n\u001b[1;32m     <a href='vscode-notebook-cell://ssh-remote%2B7b22686f73744e616d65223a2252656d6f74652d34352d6f76706e227d/home/dhy/dip/test/train.ipynb#ch0000005vscode-remote?line=14'>15</a>\u001b[0m     test(model, val_loader, epoch)\n",
      "\u001b[1;32m/home/dhy/dip/test/train.ipynb Cell 3'\u001b[0m in \u001b[0;36mtrain\u001b[0;34m(model, train_loader, optimizer, epoch)\u001b[0m\n\u001b[1;32m      <a href='vscode-notebook-cell://ssh-remote%2B7b22686f73744e616d65223a2252656d6f74652d34352d6f76706e227d/home/dhy/dip/test/train.ipynb#ch0000002vscode-remote?line=1'>2</a>\u001b[0m model\u001b[39m.\u001b[39mtrain()\n\u001b[1;32m      <a href='vscode-notebook-cell://ssh-remote%2B7b22686f73744e616d65223a2252656d6f74652d34352d6f76706e227d/home/dhy/dip/test/train.ipynb#ch0000002vscode-remote?line=2'>3</a>\u001b[0m \u001b[39mfor\u001b[39;00m batch_idx, (inputs, targets) \u001b[39min\u001b[39;00m \u001b[39menumerate\u001b[39m(train_loader):\n\u001b[0;32m----> <a href='vscode-notebook-cell://ssh-remote%2B7b22686f73744e616d65223a2252656d6f74652d34352d6f76706e227d/home/dhy/dip/test/train.ipynb#ch0000002vscode-remote?line=3'>4</a>\u001b[0m     outputs \u001b[39m=\u001b[39m model(inputs)\n\u001b[1;32m      <a href='vscode-notebook-cell://ssh-remote%2B7b22686f73744e616d65223a2252656d6f74652d34352d6f76706e227d/home/dhy/dip/test/train.ipynb#ch0000002vscode-remote?line=4'>5</a>\u001b[0m     loss \u001b[39m=\u001b[39m nn\u001b[39m.\u001b[39mcross_entropy_loss(outputs, targets)\n\u001b[1;32m      <a href='vscode-notebook-cell://ssh-remote%2B7b22686f73744e616d65223a2252656d6f74652d34352d6f76706e227d/home/dhy/dip/test/train.ipynb#ch0000002vscode-remote?line=5'>6</a>\u001b[0m     optimizer\u001b[39m.\u001b[39mstep (loss)\n",
      "File \u001b[0;32m/opt/miniconda/envs/dhy/lib/python3.9/site-packages/jittor/__init__.py:811\u001b[0m, in \u001b[0;36mModule.__call__\u001b[0;34m(self, *args, **kw)\u001b[0m\n\u001b[1;32m    <a href='file:///opt/miniconda/envs/dhy/lib/python3.9/site-packages/jittor/__init__.py?line=809'>810</a>\u001b[0m \u001b[39mdef\u001b[39;00m \u001b[39m__call__\u001b[39m(\u001b[39mself\u001b[39m, \u001b[39m*\u001b[39margs, \u001b[39m*\u001b[39m\u001b[39m*\u001b[39mkw):\n\u001b[0;32m--> <a href='file:///opt/miniconda/envs/dhy/lib/python3.9/site-packages/jittor/__init__.py?line=810'>811</a>\u001b[0m     \u001b[39mreturn\u001b[39;00m \u001b[39mself\u001b[39;49m\u001b[39m.\u001b[39;49mexecute(\u001b[39m*\u001b[39;49margs, \u001b[39m*\u001b[39;49m\u001b[39m*\u001b[39;49mkw)\n",
      "File \u001b[0;32m/opt/miniconda/envs/dhy/lib/python3.9/site-packages/jittor/models/resnet.py:152\u001b[0m, in \u001b[0;36mResNet.execute\u001b[0;34m(self, x)\u001b[0m\n\u001b[1;32m    <a href='file:///opt/miniconda/envs/dhy/lib/python3.9/site-packages/jittor/models/resnet.py?line=150'>151</a>\u001b[0m \u001b[39mdef\u001b[39;00m \u001b[39mexecute\u001b[39m(\u001b[39mself\u001b[39m, x):\n\u001b[0;32m--> <a href='file:///opt/miniconda/envs/dhy/lib/python3.9/site-packages/jittor/models/resnet.py?line=151'>152</a>\u001b[0m     \u001b[39mreturn\u001b[39;00m \u001b[39mself\u001b[39;49m\u001b[39m.\u001b[39;49m_forward_impl(x)\n",
      "File \u001b[0;32m/opt/miniconda/envs/dhy/lib/python3.9/site-packages/jittor/models/resnet.py:138\u001b[0m, in \u001b[0;36mResNet._forward_impl\u001b[0;34m(self, x)\u001b[0m\n\u001b[1;32m    <a href='file:///opt/miniconda/envs/dhy/lib/python3.9/site-packages/jittor/models/resnet.py?line=136'>137</a>\u001b[0m \u001b[39mdef\u001b[39;00m \u001b[39m_forward_impl\u001b[39m(\u001b[39mself\u001b[39m, x):\n\u001b[0;32m--> <a href='file:///opt/miniconda/envs/dhy/lib/python3.9/site-packages/jittor/models/resnet.py?line=137'>138</a>\u001b[0m     x \u001b[39m=\u001b[39m \u001b[39mself\u001b[39;49m\u001b[39m.\u001b[39;49mconv1(x)\n\u001b[1;32m    <a href='file:///opt/miniconda/envs/dhy/lib/python3.9/site-packages/jittor/models/resnet.py?line=138'>139</a>\u001b[0m     x \u001b[39m=\u001b[39m \u001b[39mself\u001b[39m\u001b[39m.\u001b[39mbn1(x)\n\u001b[1;32m    <a href='file:///opt/miniconda/envs/dhy/lib/python3.9/site-packages/jittor/models/resnet.py?line=139'>140</a>\u001b[0m     x \u001b[39m=\u001b[39m \u001b[39mself\u001b[39m\u001b[39m.\u001b[39mrelu(x)\n",
      "File \u001b[0;32m/opt/miniconda/envs/dhy/lib/python3.9/site-packages/jittor/__init__.py:811\u001b[0m, in \u001b[0;36mModule.__call__\u001b[0;34m(self, *args, **kw)\u001b[0m\n\u001b[1;32m    <a href='file:///opt/miniconda/envs/dhy/lib/python3.9/site-packages/jittor/__init__.py?line=809'>810</a>\u001b[0m \u001b[39mdef\u001b[39;00m \u001b[39m__call__\u001b[39m(\u001b[39mself\u001b[39m, \u001b[39m*\u001b[39margs, \u001b[39m*\u001b[39m\u001b[39m*\u001b[39mkw):\n\u001b[0;32m--> <a href='file:///opt/miniconda/envs/dhy/lib/python3.9/site-packages/jittor/__init__.py?line=810'>811</a>\u001b[0m     \u001b[39mreturn\u001b[39;00m \u001b[39mself\u001b[39;49m\u001b[39m.\u001b[39;49mexecute(\u001b[39m*\u001b[39;49margs, \u001b[39m*\u001b[39;49m\u001b[39m*\u001b[39;49mkw)\n",
      "File \u001b[0;32m/opt/miniconda/envs/dhy/lib/python3.9/site-packages/jittor/nn.py:833\u001b[0m, in \u001b[0;36mConv.execute\u001b[0;34m(self, x)\u001b[0m\n\u001b[1;32m    <a href='file:///opt/miniconda/envs/dhy/lib/python3.9/site-packages/jittor/nn.py?line=830'>831</a>\u001b[0m N,C,H,W \u001b[39m=\u001b[39m x\u001b[39m.\u001b[39mshape\n\u001b[1;32m    <a href='file:///opt/miniconda/envs/dhy/lib/python3.9/site-packages/jittor/nn.py?line=831'>832</a>\u001b[0m Kh, Kw \u001b[39m=\u001b[39m \u001b[39mself\u001b[39m\u001b[39m.\u001b[39mkernel_size\n\u001b[0;32m--> <a href='file:///opt/miniconda/envs/dhy/lib/python3.9/site-packages/jittor/nn.py?line=832'>833</a>\u001b[0m \u001b[39massert\u001b[39;00m C\u001b[39m==\u001b[39m\u001b[39mself\u001b[39m\u001b[39m.\u001b[39min_channels\n\u001b[1;32m    <a href='file:///opt/miniconda/envs/dhy/lib/python3.9/site-packages/jittor/nn.py?line=833'>834</a>\u001b[0m oh \u001b[39m=\u001b[39m (H\u001b[39m+\u001b[39m\u001b[39mself\u001b[39m\u001b[39m.\u001b[39mpadding[\u001b[39m0\u001b[39m]\u001b[39m*\u001b[39m\u001b[39m2\u001b[39m\u001b[39m-\u001b[39mKh\u001b[39m*\u001b[39m\u001b[39mself\u001b[39m\u001b[39m.\u001b[39mdilation[\u001b[39m0\u001b[39m]\u001b[39m+\u001b[39m\u001b[39mself\u001b[39m\u001b[39m.\u001b[39mdilation[\u001b[39m0\u001b[39m]\u001b[39m-\u001b[39m\u001b[39m1\u001b[39m)\u001b[39m/\u001b[39m\u001b[39m/\u001b[39m\u001b[39mself\u001b[39m\u001b[39m.\u001b[39mstride[\u001b[39m0\u001b[39m]\u001b[39m+\u001b[39m\u001b[39m1\u001b[39m\n\u001b[1;32m    <a href='file:///opt/miniconda/envs/dhy/lib/python3.9/site-packages/jittor/nn.py?line=834'>835</a>\u001b[0m ow \u001b[39m=\u001b[39m (W\u001b[39m+\u001b[39m\u001b[39mself\u001b[39m\u001b[39m.\u001b[39mpadding[\u001b[39m1\u001b[39m]\u001b[39m*\u001b[39m\u001b[39m2\u001b[39m\u001b[39m-\u001b[39mKw\u001b[39m*\u001b[39m\u001b[39mself\u001b[39m\u001b[39m.\u001b[39mdilation[\u001b[39m1\u001b[39m]\u001b[39m+\u001b[39m\u001b[39mself\u001b[39m\u001b[39m.\u001b[39mdilation[\u001b[39m1\u001b[39m]\u001b[39m-\u001b[39m\u001b[39m1\u001b[39m)\u001b[39m/\u001b[39m\u001b[39m/\u001b[39m\u001b[39mself\u001b[39m\u001b[39m.\u001b[39mstride[\u001b[39m1\u001b[39m]\u001b[39m+\u001b[39m\u001b[39m1\u001b[39m\n",
      "\u001b[0;31mAssertionError\u001b[0m: "
     ]
    }
   ],
   "source": [
    "main()"
   ]
  }
 ],
 "metadata": {
  "interpreter": {
   "hash": "dc8d0c2ba487628ef9539a9907cd300ddff1381c4c1f4ed73c440a978aa681e3"
  },
  "kernelspec": {
   "display_name": "Python 3.9.7 ('dhy')",
   "language": "python",
   "name": "python3"
  },
  "language_info": {
   "codemirror_mode": {
    "name": "ipython",
    "version": 3
   },
   "file_extension": ".py",
   "mimetype": "text/x-python",
   "name": "python",
   "nbconvert_exporter": "python",
   "pygments_lexer": "ipython3",
   "version": "3.9.7"
  },
  "orig_nbformat": 4
 },
 "nbformat": 4,
 "nbformat_minor": 2
}
