{
 "cells": [
  {
   "cell_type": "code",
   "execution_count": 1,
   "metadata": {},
   "outputs": [
    {
     "name": "stderr",
     "output_type": "stream",
     "text": [
      "\u001b[38;5;2m[i 0419 20:06:57.385932 88 log.cc:351] Load log_sync: 1\u001b[m\n",
      "\u001b[38;5;2m[i 0419 20:06:57.482737 88 compiler.py:951] Jittor(1.3.2.5) src: /opt/miniconda/envs/dhy/lib/python3.9/site-packages/jittor\u001b[m\n",
      "\u001b[38;5;2m[i 0419 20:06:57.490623 88 compiler.py:952] g++ at /usr/bin/g++(9.3.0)\u001b[m\n",
      "\u001b[38;5;2m[i 0419 20:06:57.492340 88 compiler.py:953] cache_path: /home/dhy/.cache/jittor/jt1.3.2/g++9.3.0/py3.9.7/Linux-3.10.0-1xeb/IntelRXeonRGolx19/default\u001b[m\n",
      "\u001b[38;5;2m[i 0419 20:06:57.505703 88 install_cuda.py:51] cuda_driver_version: [11, 4]\u001b[m\n",
      "\u001b[38;5;2m[i 0419 20:06:57.512621 88 __init__.py:411] Found /home/dhy/.cache/jittor/jtcuda/cuda11.2_cudnn8_linux/bin/nvcc(11.2.152) at /home/dhy/.cache/jittor/jtcuda/cuda11.2_cudnn8_linux/bin/nvcc.\u001b[m\n",
      "\u001b[38;5;2m[i 0419 20:06:57.575119 88 __init__.py:411] Found gdb(9.2) at /usr/bin/gdb.\u001b[m\n",
      "\u001b[38;5;2m[i 0419 20:06:57.582104 88 __init__.py:411] Found addr2line(2.34) at /usr/bin/addr2line.\u001b[m\n",
      "\u001b[38;5;2m[i 0419 20:06:57.712520 88 compiler.py:1006] cuda key:cu11.2.152_sm_86\u001b[m\n",
      "\u001b[38;5;2m[i 0419 20:06:57.921914 88 __init__.py:227] Total mem: 251.43GB, using 16 procs for compiling.\u001b[m\n",
      "\u001b[38;5;2m[i 0419 20:06:58.314537 88 jit_compiler.cc:28] Load cc_path: /usr/bin/g++\u001b[m\n",
      "\u001b[38;5;2m[i 0419 20:06:58.523188 88 init.cc:62] Found cuda archs: [86,]\u001b[m\n",
      "\u001b[38;5;2m[i 0419 20:06:58.553623 88 compile_extern.py:516] mpicc not found, distribution disabled.\u001b[m\n",
      "\u001b[38;5;2m[i 0419 20:06:58.652588 88 compile_extern.py:30] found /home/dhy/.cache/jittor/jtcuda/cuda11.2_cudnn8_linux/include/cublas.h\u001b[m\n",
      "\u001b[38;5;2m[i 0419 20:06:58.661639 88 compile_extern.py:30] found /home/dhy/.cache/jittor/jtcuda/cuda11.2_cudnn8_linux/lib64/libcublas.so\u001b[m\n",
      "\u001b[38;5;2m[i 0419 20:06:58.663034 88 compile_extern.py:30] found /home/dhy/.cache/jittor/jtcuda/cuda11.2_cudnn8_linux/lib64/libcublasLt.so.11\u001b[m\n",
      "\u001b[38;5;2m[i 0419 20:06:59.460973 88 compile_extern.py:30] found /home/dhy/.cache/jittor/jtcuda/cuda11.2_cudnn8_linux/include/cudnn.h\u001b[m\n",
      "\u001b[38;5;2m[i 0419 20:06:59.486046 88 compile_extern.py:30] found /home/dhy/.cache/jittor/jtcuda/cuda11.2_cudnn8_linux/lib64/libcudnn.so.8\u001b[m\n",
      "\u001b[38;5;2m[i 0419 20:06:59.488097 88 compile_extern.py:30] found /home/dhy/.cache/jittor/jtcuda/cuda11.2_cudnn8_linux/lib64/libcudnn_ops_infer.so.8\u001b[m\n",
      "\u001b[38;5;2m[i 0419 20:06:59.494307 88 compile_extern.py:30] found /home/dhy/.cache/jittor/jtcuda/cuda11.2_cudnn8_linux/lib64/libcudnn_ops_train.so.8\u001b[m\n",
      "\u001b[38;5;2m[i 0419 20:06:59.499893 88 compile_extern.py:30] found /home/dhy/.cache/jittor/jtcuda/cuda11.2_cudnn8_linux/lib64/libcudnn_cnn_infer.so.8\u001b[m\n",
      "\u001b[38;5;2m[i 0419 20:06:59.544110 88 compile_extern.py:30] found /home/dhy/.cache/jittor/jtcuda/cuda11.2_cudnn8_linux/lib64/libcudnn_cnn_train.so.8\u001b[m\n",
      "\u001b[38;5;2m[i 0419 20:07:00.340354 88 compile_extern.py:30] found /home/dhy/.cache/jittor/jtcuda/cuda11.2_cudnn8_linux/include/curand.h\u001b[m\n",
      "\u001b[38;5;2m[i 0419 20:07:00.385108 88 compile_extern.py:30] found /home/dhy/.cache/jittor/jtcuda/cuda11.2_cudnn8_linux/lib64/libcurand.so\u001b[m\n",
      "\u001b[38;5;2m[i 0419 20:07:00.422862 88 compile_extern.py:30] found /home/dhy/.cache/jittor/jtcuda/cuda11.2_cudnn8_linux/include/cufft.h\u001b[m\n",
      "\u001b[38;5;2m[i 0419 20:07:00.456807 88 compile_extern.py:30] found /home/dhy/.cache/jittor/jtcuda/cuda11.2_cudnn8_linux/lib64/libcufft.so\u001b[m\n"
     ]
    }
   ],
   "source": [
    "import numpy as np\n",
    "import pandas as pd\n",
    "import jittor as jt\n",
    "import os\n",
    "from os.path import join, getsize\n",
    "\n",
    "from jittor.dataset import Dataset\n",
    "from PIL import Image\n",
    "from dataset import Tiny_vid\n",
    "\n",
    "from model import DetNet, train, test, total_acc, total_num, main\n"
   ]
  },
  {
   "cell_type": "code",
   "execution_count": 2,
   "metadata": {},
   "outputs": [],
   "source": [
    "from jittor import nn\n",
    "import jittor.transform as transfrom\n",
    "import numpy as np\n",
    "from jittor.models.resnet import Resnet50, ResNet, Resnet34\n",
    "from dataset import Tiny_vid\n",
    "from argparse import ArgumentParser\n",
    "from bbox import box_iou_batch\n",
    "jt.misc.set_global_seed(425)"
   ]
  },
  {
   "cell_type": "code",
   "execution_count": 3,
   "metadata": {},
   "outputs": [],
   "source": [
    "def bbox_to_rect(bbox, color):\n",
    "    \"\"\"Defined in :numref:`sec_bbox`\"\"\"\n",
    "    # 将边界框(左上x,左上y,右下x,右下y)格式转换成matplotlib格式：\n",
    "    # ((左上x,左上y),宽,高)\n",
    "    return plt.Rectangle(\n",
    "        xy=(bbox[0], bbox[1]), width=bbox[2]-bbox[0], height=bbox[3]-bbox[1],\n",
    "        fill=False, edgecolor=color, linewidth=2)\n",
    "    \n",
    "def show_bboxes(axes, bboxes, labels=None, colors=None):\n",
    "    def _make_list(obj, default_values=None):\n",
    "        if obj is None:\n",
    "            obj = default_values\n",
    "        elif not isinstance(obj, (list, tuple)):\n",
    "            obj = [obj]\n",
    "        return obj\n",
    "\n",
    "    labels = _make_list(labels)\n",
    "    colors = _make_list(colors, ['b', 'g', 'r', 'm', 'c'])\n",
    "\n",
    "    for i, bbox in enumerate(bboxes):\n",
    "        color = colors[i % len(colors)]\n",
    "        rect = bbox_to_rect(bbox, color)\n",
    "        axes.add_patch(rect)\n",
    "        if labels and len(labels) > i:\n",
    "            text_color = 'k' if color == 'w' else 'w'\n",
    "            axes.text(rect.xy[0], rect.xy[1], labels[i], va='center',\n",
    "                      ha='center', fontsize=9, color=text_color, bbox=dict(facecolor=color, lw=0))\n",
    "            \n",
    "def show_bbox(outboxes, outclass, input, label,id=0):\n",
    "    cdict = {'bird':0,'car':1,'dog':2,'lizard':3,'turtle':4}\n",
    "    clist = list(cdict.keys())\n",
    "    pred,_ = jt.argmax(outclass.data[id,:], dim=0)\n",
    "    outlabel = clist[int(pred)]\n",
    "    outboxes *= 128\n",
    "    outbox = np.floor(outboxes)[id,:]\n",
    "    realbox = np.array(label[1][id,:]*128).astype(np.int64)\n",
    "    reallabel = clist[int(label[id][0])]\n",
    "    from PIL import Image\n",
    "    img = jt.transform.to_pil_image(input[id,:].transpose(2,1,0))\n",
    "    fig = plt.figure()\n",
    "    axes = fig.add_axes([0,0,1,1])\n",
    "    plt.imshow(img)\n",
    "    # import pdb;pdb.set_trace()\n",
    "    show_bboxes(axes, [realbox], labels=reallabel, colors='black')\n",
    "    show_bboxes(axes, [outbox], labels=outlabel, colors='blue')\n",
    "    plt.show()\n",
    "    \n",
    "# show_bbox(outboxes, outclass, inputs, targets)    \n",
    "    \n",
    "\n",
    "    "
   ]
  },
  {
   "cell_type": "code",
   "execution_count": 4,
   "metadata": {},
   "outputs": [
    {
     "name": "stderr",
     "output_type": "stream",
     "text": [
      "\u001b[38;5;2m[i 0419 20:07:01.394360 88 cuda_flags.cc:32] CUDA enabled.\u001b[m\n"
     ]
    }
   ],
   "source": [
    "jt.flags.use_cuda = 1\n",
    "batch_size = 16\n",
    "learning_rate = 1e-2\n",
    "momentum = 0.9\n",
    "weight_decay = 1e-4\n",
    "epochs = 20"
   ]
  },
  {
   "cell_type": "code",
   "execution_count": 5,
   "metadata": {},
   "outputs": [],
   "source": [
    "import matplotlib.pyplot as plt\n",
    "from IPython import display"
   ]
  },
  {
   "cell_type": "code",
   "execution_count": 6,
   "metadata": {},
   "outputs": [
    {
     "name": "stdout",
     "output_type": "stream",
     "text": [
      "dataset img len: 1500\n",
      "dataset label len: 1500\n",
      "dataset img len: 150\n",
      "dataset label len: 150\n"
     ]
    },
    {
     "ename": "KeyboardInterrupt",
     "evalue": "",
     "output_type": "error",
     "traceback": [
      "\u001b[0;31m---------------------------------------------------------------------------\u001b[0m",
      "\u001b[0;31mKeyboardInterrupt\u001b[0m                         Traceback (most recent call last)",
      "\u001b[1;32m/home/dhy/dip/dip_hw/test/lab4/dataset.ipynb Cell 6'\u001b[0m in \u001b[0;36m<cell line: 12>\u001b[0;34m()\u001b[0m\n\u001b[1;32m     <a href='vscode-notebook-cell://ssh-remote%2B192.168.0.45/home/dhy/dip/dip_hw/test/lab4/dataset.ipynb#ch0000005vscode-remote?line=10'>11</a>\u001b[0m optimizer_box \u001b[39m=\u001b[39m nn\u001b[39m.\u001b[39mSGD(model\u001b[39m.\u001b[39mpreprocess\u001b[39m.\u001b[39mparameters()\u001b[39m+\u001b[39mmodel\u001b[39m.\u001b[39mbbox_head\u001b[39m.\u001b[39mparameters(), learning_rate, momentum, weight_decay)\n\u001b[1;32m     <a href='vscode-notebook-cell://ssh-remote%2B192.168.0.45/home/dhy/dip/dip_hw/test/lab4/dataset.ipynb#ch0000005vscode-remote?line=11'>12</a>\u001b[0m \u001b[39mfor\u001b[39;00m epoch \u001b[39min\u001b[39;00m \u001b[39mrange\u001b[39m(epochs):\n\u001b[0;32m---> <a href='vscode-notebook-cell://ssh-remote%2B192.168.0.45/home/dhy/dip/dip_hw/test/lab4/dataset.ipynb#ch0000005vscode-remote?line=12'>13</a>\u001b[0m     train(model, train_loader, optimizer, optimizer_box, epoch)\n\u001b[1;32m     <a href='vscode-notebook-cell://ssh-remote%2B192.168.0.45/home/dhy/dip/dip_hw/test/lab4/dataset.ipynb#ch0000005vscode-remote?line=13'>14</a>\u001b[0m     outclass, outboxes, inputs, targets \u001b[39m=\u001b[39m test(model, val_loader, epoch)\n\u001b[1;32m     <a href='vscode-notebook-cell://ssh-remote%2B192.168.0.45/home/dhy/dip/dip_hw/test/lab4/dataset.ipynb#ch0000005vscode-remote?line=14'>15</a>\u001b[0m     \u001b[39mif\u001b[39;00m epoch\u001b[39m%\u001b[39m\u001b[39m5\u001b[39m \u001b[39m==\u001b[39m \u001b[39m0\u001b[39m:\n",
      "File \u001b[0;32m~/dip/dip_hw/test/lab4/model.py:65\u001b[0m, in \u001b[0;36mtrain\u001b[0;34m(model, train_loader, optimizer, optimizer_box, epoch)\u001b[0m\n\u001b[1;32m     <a href='file:///home/dhy//dip/dip_hw/test/lab4/model.py?line=62'>63</a>\u001b[0m \u001b[39mwith\u001b[39;00m jt\u001b[39m.\u001b[39mno_grad():\n\u001b[1;32m     <a href='file:///home/dhy//dip/dip_hw/test/lab4/model.py?line=63'>64</a>\u001b[0m     batch_size \u001b[39m=\u001b[39m inputs\u001b[39m.\u001b[39mshape[\u001b[39m0\u001b[39m]\n\u001b[0;32m---> <a href='file:///home/dhy//dip/dip_hw/test/lab4/model.py?line=64'>65</a>\u001b[0m     pred,_ \u001b[39m=\u001b[39m jt\u001b[39m.\u001b[39margmax(outputs\u001b[39m.\u001b[39;49mdata, dim\u001b[39m=\u001b[39m\u001b[39m1\u001b[39m)\n\u001b[1;32m     <a href='file:///home/dhy//dip/dip_hw/test/lab4/model.py?line=65'>66</a>\u001b[0m     class_acc \u001b[39m=\u001b[39m jt\u001b[39m.\u001b[39msum(targets[\u001b[39m0\u001b[39m] \u001b[39m==\u001b[39m pred) \u001b[39m/\u001b[39m batch_size\n\u001b[1;32m     <a href='file:///home/dhy//dip/dip_hw/test/lab4/model.py?line=66'>67</a>\u001b[0m     iou \u001b[39m=\u001b[39m box_iou_batch(outboxes, targets[\u001b[39m1\u001b[39m])\n",
      "\u001b[0;31mKeyboardInterrupt\u001b[0m: "
     ]
    }
   ],
   "source": [
    "my_transform = transfrom.Compose([\n",
    "    transfrom.ToTensor()\n",
    "    ])\n",
    "\n",
    "train_loader = Tiny_vid(train=True, transform=my_transform, aug=True).set_attrs(batch_size=batch_size, shuffle=True)\n",
    "val_loader = Tiny_vid(train=False, transform=my_transform)\n",
    "val_loader.set_attrs(batch_size=len(val_loader.ground_truth), shuffle=False)\n",
    "\n",
    "model = DetNet()\n",
    "optimizer = nn.SGD(model.preprocess.parameters()+model.backbone.parameters()+model.class_head.parameters(), learning_rate, momentum, weight_decay)\n",
    "optimizer_box = nn.SGD(model.preprocess.parameters()+model.bbox_head.parameters(), learning_rate, momentum, weight_decay)\n",
    "for epoch in range(epochs):\n",
    "    train(model, train_loader, optimizer, optimizer_box, epoch)\n",
    "    outclass, outboxes, inputs, targets = test(model, val_loader, epoch)\n",
    "    if epoch%5 == 0:\n",
    "        display.clear_output(wait=True)\n",
    "    show_bbox(outboxes, outclass, inputs, targets) \n",
    "    # break\n"
   ]
  },
  {
   "cell_type": "code",
   "execution_count": null,
   "metadata": {},
   "outputs": [],
   "source": [
    "outclass[0,:]\n",
    "pred,_ = jt.argmax(outclass.data[0,:], dim=0)\n",
    "int(pred)\n"
   ]
  },
  {
   "cell_type": "code",
   "execution_count": null,
   "metadata": {},
   "outputs": [],
   "source": [
    "outboxes[0,:]"
   ]
  },
  {
   "cell_type": "code",
   "execution_count": null,
   "metadata": {},
   "outputs": [],
   "source": [
    "cdict = {'bird':0,'car':1,'dog':2,'lizard':3,'turtle':4}\n",
    "list(cdict.keys())"
   ]
  },
  {
   "cell_type": "code",
   "execution_count": null,
   "metadata": {},
   "outputs": [],
   "source": [
    "targets[1][0,:]\n",
    "a = np.array(targets[1][0,:]*128).astype(np.int64)\n",
    "bbox_to_rect(a,'b')\n",
    "# realbox = np.floor(targets[0][1]*128)"
   ]
  }
 ],
 "metadata": {
  "interpreter": {
   "hash": "dc8d0c2ba487628ef9539a9907cd300ddff1381c4c1f4ed73c440a978aa681e3"
  },
  "kernelspec": {
   "display_name": "Python 3.9.7 ('dhy')",
   "language": "python",
   "name": "python3"
  },
  "language_info": {
   "codemirror_mode": {
    "name": "ipython",
    "version": 3
   },
   "file_extension": ".py",
   "mimetype": "text/x-python",
   "name": "python",
   "nbconvert_exporter": "python",
   "pygments_lexer": "ipython3",
   "version": "3.9.7"
  },
  "orig_nbformat": 4
 },
 "nbformat": 4,
 "nbformat_minor": 2
}
